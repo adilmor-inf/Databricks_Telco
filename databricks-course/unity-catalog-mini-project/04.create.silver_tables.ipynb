{
 "cells": [
  {
   "cell_type": "markdown",
   "metadata": {
    "application/vnd.databricks.v1+cell": {
     "cellMetadata": {},
     "inputWidgets": {},
     "nuid": "f130dbf3-7884-4e66-b924-30a1067611d3",
     "showTitle": false,
     "tableResultSettingsMap": {},
     "title": ""
    }
   },
   "source": [
    "### Crear Managed Table en el Schema silver\n",
    "1. clientes\n",
    "2. detalles"
   ]
  },
  {
   "cell_type": "code",
   "execution_count": 0,
   "metadata": {
    "application/vnd.databricks.v1+cell": {
     "cellMetadata": {
      "byteLimit": 2048000,
      "rowLimit": 10000
     },
     "inputWidgets": {},
     "nuid": "fc1c211e-0314-42d5-83b2-91ed5e13fd66",
     "showTitle": false,
     "tableResultSettingsMap": {},
     "title": ""
    }
   },
   "outputs": [],
   "source": [
    "CREATE OR REPLACE TABLE telco_dev.silver.clientes AS\n",
    "SELECT \n",
    "  clienteId AS cliente_id,\n",
    "  CONCAT(nombre, ' ', paterno, ' ', materno) AS nombre_completo,\n",
    "  documentoIdentidad AS documento_identidad,\n",
    "  telefono,\n",
    "  email,\n",
    "  direccion,\n",
    "  current_timestamp() as ingestion_date\n",
    "FROM telco_dev.bronze.clientes;"
   ]
  },
  {
   "cell_type": "code",
   "execution_count": 0,
   "metadata": {
    "application/vnd.databricks.v1+cell": {
     "cellMetadata": {
      "byteLimit": 2048000,
      "rowLimit": 10000
     },
     "inputWidgets": {},
     "nuid": "387c5b0b-77ca-4d48-a6f7-ea4613f62f0f",
     "showTitle": false,
     "tableResultSettingsMap": {},
     "title": ""
    }
   },
   "outputs": [],
   "source": [
    "CREATE OR REPLACE TABLE telco_dev.silver.detalles AS\n",
    "SELECT \n",
    "  detalleId AS detalle_id,\n",
    "  clienteId AS cliente_id,\n",
    "  servicio,\n",
    "  plan,\n",
    "  precioMensual AS precio_mensual,\n",
    "  estado,\n",
    "  fechaInicio AS fecha_inicio,\n",
    "  fechaFin AS fecha_fin,\n",
    "  current_timestamp() as ingestion_date\n",
    "FROM telco_dev.bronze.detalles;"
   ]
  }
 ],
 "metadata": {
  "application/vnd.databricks.v1+notebook": {
   "computePreferences": null,
   "dashboards": [],
   "environmentMetadata": {
    "base_environment": "",
    "environment_version": "2"
   },
   "inputWidgetPreferences": null,
   "language": "sql",
   "notebookMetadata": {
    "pythonIndentUnit": 4
   },
   "notebookName": "04.create.silver_tables",
   "widgets": {}
  },
  "language_info": {
   "name": "sql"
  }
 },
 "nbformat": 4,
 "nbformat_minor": 0
}
