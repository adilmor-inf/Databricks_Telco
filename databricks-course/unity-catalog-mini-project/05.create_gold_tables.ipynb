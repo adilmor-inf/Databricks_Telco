{
 "cells": [
  {
   "cell_type": "markdown",
   "metadata": {
    "application/vnd.databricks.v1+cell": {
     "cellMetadata": {},
     "inputWidgets": {},
     "nuid": "32438613-6704-40e3-a7e6-7ee6c9af4518",
     "showTitle": false,
     "tableResultSettingsMap": {},
     "title": ""
    }
   },
   "source": [
    "### Crea Managed Table en el Schema gold\n",
    ". Usar JOIN en las tablas \"clientes\" y \"detalles\" para obtener los \"ingressos por cliente\""
   ]
  },
  {
   "cell_type": "code",
   "execution_count": 0,
   "metadata": {
    "application/vnd.databricks.v1+cell": {
     "cellMetadata": {
      "byteLimit": 2048000,
      "rowLimit": 10000
     },
     "inputWidgets": {},
     "nuid": "73677abb-6f36-41a2-a7fa-90b0c9638ae8",
     "showTitle": false,
     "tableResultSettingsMap": {},
     "title": ""
    }
   },
   "outputs": [],
   "source": [
    "DROP TABLE IF EXISTS telco_Dev.gold.ingreso_por_cliente;\n",
    "\n",
    "CREATE TABLE IF NOT EXISTS telco_Dev.gold.ingreso_por_cliente\n",
    "AS\n",
    " SELECT cli.nombre_completo,\n",
    "        SUM(det.precio_mensual) AS ingeso\n",
    "   FROM telco_dev.silver.clientes cli\n",
    "   INNER JOIN telco_dev.silver.detalles AS det\n",
    "     ON cli.cliente_id = det.cliente_id\n",
    "WHERE det.estado = true\n",
    " GROUP BY cli.nombre_completo\n",
    " ORDER BY ingeso DESC"
   ]
  }
 ],
 "metadata": {
  "application/vnd.databricks.v1+notebook": {
   "computePreferences": null,
   "dashboards": [],
   "environmentMetadata": {
    "base_environment": "",
    "environment_version": "2"
   },
   "inputWidgetPreferences": null,
   "language": "sql",
   "notebookMetadata": {},
   "notebookName": "05.create_gold_tables",
   "widgets": {}
  },
  "language_info": {
   "name": "sql"
  }
 },
 "nbformat": 4,
 "nbformat_minor": 0
}
